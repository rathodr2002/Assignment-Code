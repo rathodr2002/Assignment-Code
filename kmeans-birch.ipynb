{
 "cells": [
  {
   "cell_type": "code",
   "execution_count": 1,
   "metadata": {
    "_cell_guid": "b1076dfc-b9ad-4769-8c92-a6c4dae69d19",
    "_uuid": "8f2839f25d086af736a60e9eeb907d3b93b6e0e5",
    "execution": {
     "iopub.execute_input": "2021-02-11T19:53:01.452909Z",
     "iopub.status.busy": "2021-02-11T19:53:01.452245Z",
     "iopub.status.idle": "2021-02-11T19:53:01.510961Z",
     "shell.execute_reply": "2021-02-11T19:53:01.511709Z"
    },
    "papermill": {
     "duration": 0.072784,
     "end_time": "2021-02-11T19:53:01.512127",
     "exception": false,
     "start_time": "2021-02-11T19:53:01.439343",
     "status": "completed"
    },
    "tags": []
   },
   "outputs": [
    {
     "name": "stdout",
     "output_type": "stream",
     "text": [
      "/kaggle/input/customer-segmentation-tutorial-in-python/Mall_Customers.csv\n",
      "/kaggle/input/sample-sales-data/sales_data_sample.csv\n",
      "/kaggle/input/clustering-engineering-college-data/Engg_College_Data.csv\n"
     ]
    }
   ],
   "source": [
    "# This Python 3 environment comes with many helpful analytics libraries installed\n",
    "# It is defined by the kaggle/python Docker image: https://github.com/kaggle/docker-python\n",
    "# For example, here's several helpful packages to load\n",
    "\n",
    "import numpy as np # linear algebra\n",
    "import pandas as pd # data processing, CSV file I/O (e.g. pd.read_csv)\n",
    "\n",
    "# Input data files are available in the read-only \"../input/\" directory\n",
    "# For example, running this (by clicking run or pressing Shift+Enter) will list all files under the input directory\n",
    "\n",
    "import os\n",
    "for dirname, _, filenames in os.walk('/kaggle/input'):\n",
    "    for filename in filenames:\n",
    "        print(os.path.join(dirname, filename))\n",
    "\n",
    "# You can write up to 20GB to the current directory (/kaggle/working/) that gets preserved as output when you create a version using \"Save & Run All\" \n",
    "# You can also write temporary files to /kaggle/temp/, but they won't be saved outside of the current session"
   ]
  },
  {
   "cell_type": "code",
   "execution_count": 2,
   "metadata": {
    "execution": {
     "iopub.execute_input": "2021-02-11T19:53:01.530622Z",
     "iopub.status.busy": "2021-02-11T19:53:01.530040Z",
     "iopub.status.idle": "2021-02-11T19:53:02.654484Z",
     "shell.execute_reply": "2021-02-11T19:53:02.655009Z"
    },
    "papermill": {
     "duration": 1.135924,
     "end_time": "2021-02-11T19:53:02.655288",
     "exception": false,
     "start_time": "2021-02-11T19:53:01.519364",
     "status": "completed"
    },
    "tags": []
   },
   "outputs": [],
   "source": [
    "import pandas as pd\n",
    "import numpy as np\n",
    "import matplotlib.pyplot as plt\n",
    "from sklearn.cluster import KMeans\n",
    "%matplotlib inline"
   ]
  },
  {
   "cell_type": "code",
   "execution_count": 3,
   "metadata": {
    "execution": {
     "iopub.execute_input": "2021-02-11T19:53:02.673831Z",
     "iopub.status.busy": "2021-02-11T19:53:02.673119Z",
     "iopub.status.idle": "2021-02-11T19:53:02.712932Z",
     "shell.execute_reply": "2021-02-11T19:53:02.712310Z"
    },
    "papermill": {
     "duration": 0.051282,
     "end_time": "2021-02-11T19:53:02.713075",
     "exception": false,
     "start_time": "2021-02-11T19:53:02.661793",
     "status": "completed"
    },
    "tags": []
   },
   "outputs": [
    {
     "data": {
      "text/html": [
       "<div>\n",
       "<style scoped>\n",
       "    .dataframe tbody tr th:only-of-type {\n",
       "        vertical-align: middle;\n",
       "    }\n",
       "\n",
       "    .dataframe tbody tr th {\n",
       "        vertical-align: top;\n",
       "    }\n",
       "\n",
       "    .dataframe thead th {\n",
       "        text-align: right;\n",
       "    }\n",
       "</style>\n",
       "<table border=\"1\" class=\"dataframe\">\n",
       "  <thead>\n",
       "    <tr style=\"text-align: right;\">\n",
       "      <th></th>\n",
       "      <th>A</th>\n",
       "      <th>B</th>\n",
       "    </tr>\n",
       "  </thead>\n",
       "  <tbody>\n",
       "    <tr>\n",
       "      <th>0</th>\n",
       "      <td>15</td>\n",
       "      <td>39</td>\n",
       "    </tr>\n",
       "    <tr>\n",
       "      <th>1</th>\n",
       "      <td>15</td>\n",
       "      <td>81</td>\n",
       "    </tr>\n",
       "    <tr>\n",
       "      <th>2</th>\n",
       "      <td>16</td>\n",
       "      <td>6</td>\n",
       "    </tr>\n",
       "    <tr>\n",
       "      <th>3</th>\n",
       "      <td>16</td>\n",
       "      <td>77</td>\n",
       "    </tr>\n",
       "    <tr>\n",
       "      <th>4</th>\n",
       "      <td>17</td>\n",
       "      <td>40</td>\n",
       "    </tr>\n",
       "  </tbody>\n",
       "</table>\n",
       "</div>"
      ],
      "text/plain": [
       "    A   B\n",
       "0  15  39\n",
       "1  15  81\n",
       "2  16   6\n",
       "3  16  77\n",
       "4  17  40"
      ]
     },
     "execution_count": 3,
     "metadata": {},
     "output_type": "execute_result"
    }
   ],
   "source": [
    "\n",
    "dataset = pd.read_csv('../input/customer-segmentation-tutorial-in-python/Mall_Customers.csv')\n",
    "dataset.head()\n",
    "dataset[\"A\"]= dataset[[\"Annual Income (k$)\"]]\n",
    "dataset[\"B\"]=dataset[[\"Spending Score (1-100)\"]]\n",
    "X=dataset[[\"A\",\"B\"]]\n",
    "X.head()\n"
   ]
  },
  {
   "cell_type": "code",
   "execution_count": 4,
   "metadata": {
    "execution": {
     "iopub.execute_input": "2021-02-11T19:53:02.731181Z",
     "iopub.status.busy": "2021-02-11T19:53:02.730048Z",
     "iopub.status.idle": "2021-02-11T19:53:02.902463Z",
     "shell.execute_reply": "2021-02-11T19:53:02.901833Z"
    },
    "papermill": {
     "duration": 0.183046,
     "end_time": "2021-02-11T19:53:02.902609",
     "exception": false,
     "start_time": "2021-02-11T19:53:02.719563",
     "status": "completed"
    },
    "tags": []
   },
   "outputs": [
    {
     "data": {
      "image/png": "[encoded data removed]",
      "text/plain": [
       "<Figure size 432x288 with 1 Axes>"
      ]
     },
     "metadata": {
      "needs_background": "light"
     },
     "output_type": "display_data"
    }
   ],
   "source": [
    "\n",
    "plt.scatter(X[\"A\"], X[\"B\"], s = 30, c = 'b')\n",
    "plt.show()"
   ]
  },
  {
   "cell_type": "code",
   "execution_count": 5,
   "metadata": {
    "execution": {
     "iopub.execute_input": "2021-02-11T19:53:02.930117Z",
     "iopub.status.busy": "2021-02-11T19:53:02.926701Z",
     "iopub.status.idle": "2021-02-11T19:53:03.201205Z",
     "shell.execute_reply": "2021-02-11T19:53:03.200348Z"
    },
    "papermill": {
     "duration": 0.29098,
     "end_time": "2021-02-11T19:53:03.201342",
     "exception": false,
     "start_time": "2021-02-11T19:53:02.910362",
     "status": "completed"
    },
    "tags": []
   },
   "outputs": [
    {
     "name": "stdout",
     "output_type": "stream",
     "text": [
      "[[55.2962963  49.51851852]\n",
      " [25.72727273 79.36363636]\n",
      " [86.53846154 82.12820513]\n",
      " [88.2        17.11428571]\n",
      " [26.30434783 20.91304348]]\n",
      "green\n",
      "blue\n",
      "black\n",
      "yellow\n",
      "orange\n"
     ]
    },
    {
     "data": {
      "image/png": "[encoded data removed]",
      "text/plain": [
       "<Figure size 432x288 with 1 Axes>"
      ]
     },
     "metadata": {
      "needs_background": "light"
     },
     "output_type": "display_data"
    }
   ],
   "source": [
    "from sklearn.cluster import KMeans\n",
    "Kmean = KMeans(n_clusters=5)\n",
    "Kmean.fit(X)\n",
    "\n",
    "centers=Kmean.cluster_centers_\n",
    "print(Kmean.cluster_centers_)\n",
    "\n",
    "clusters = Kmean.fit_predict(X)\n",
    "dataset[\"label\"] = clusters\n",
    "dataset.head()\n",
    "\n",
    "\n",
    "col=['green','blue','black','yellow','orange',]\n",
    "for i in range(5):\n",
    "    a=col[i]\n",
    "    print(a)\n",
    "    plt.scatter(dataset.A[dataset.label==i], dataset.B[dataset.label == i], c=a, label='cluster 1')\n",
    "plt.scatter(centers[:, 0], centers[:, 1], marker='*', s=300,\n",
    "                c='r', label='centroid')\n",
    "\n",
    "\n",
    "plt.show()"
   ]
  },
  {
   "cell_type": "code",
   "execution_count": 6,
   "metadata": {
    "execution": {
     "iopub.execute_input": "2021-02-11T19:53:03.226527Z",
     "iopub.status.busy": "2021-02-11T19:53:03.226000Z",
     "iopub.status.idle": "2021-02-11T19:53:03.400255Z",
     "shell.execute_reply": "2021-02-11T19:53:03.399748Z"
    },
    "papermill": {
     "duration": 0.189863,
     "end_time": "2021-02-11T19:53:03.400397",
     "exception": false,
     "start_time": "2021-02-11T19:53:03.210534",
     "status": "completed"
    },
    "tags": []
   },
   "outputs": [
    {
     "data": {
      "image/png": "[encoded data removed]",
      "text/plain": [
       "<Figure size 432x288 with 1 Axes>"
      ]
     },
     "metadata": {
      "needs_background": "light"
     },
     "output_type": "display_data"
    }
   ],
   "source": [
    "#BIRCH\n",
    "import matplotlib.pyplot as plt \n",
    "from sklearn.cluster import Birch \n",
    "  \n",
    "# Creating the BIRCH clustering model \n",
    "model = Birch(branching_factor =30, n_clusters = 5, threshold = 2.5) \n",
    "  \n",
    "# Fit the data (Training) \n",
    "model.fit(X) \n",
    "  \n",
    "# Predict the same data \n",
    "pred = model.predict(X) \n",
    "  \n",
    "# Creating a scatter plot \n",
    "plt.scatter(dataset[\"A\"], dataset[\"B\"], c = pred, cmap = 'rainbow', alpha = 1, edgecolors = 'b') \n",
    "plt.show()"
   ]
  },
  {
   "cell_type": "code",
   "execution_count": 7,
   "metadata": {
    "execution": {
     "iopub.execute_input": "2021-02-11T19:53:03.425815Z",
     "iopub.status.busy": "2021-02-11T19:53:03.425174Z",
     "iopub.status.idle": "2021-02-11T19:53:03.428041Z",
     "shell.execute_reply": "2021-02-11T19:53:03.427542Z"
    },
    "papermill": {
     "duration": 0.017015,
     "end_time": "2021-02-11T19:53:03.428176",
     "exception": false,
     "start_time": "2021-02-11T19:53:03.411161",
     "status": "completed"
    },
    "tags": []
   },
   "outputs": [],
   "source": [
    "#CHAMELEON"
   ]
  },
  {
   "cell_type": "code",
   "execution_count": null,
   "metadata": {
    "papermill": {
     "duration": 0.010313,
     "end_time": "2021-02-11T19:53:03.449122",
     "exception": false,
     "start_time": "2021-02-11T19:53:03.438809",
     "status": "completed"
    },
    "tags": []
   },
   "outputs": [],
   "source": []
  }
 ],
 "metadata": {
  "kernelspec": {
   "display_name": "Python 3",
   "language": "python",
   "name": "python3"
  },
  "language_info": {
   "codemirror_mode": {
    "name": "ipython",
    "version": 3
   },
   "file_extension": ".py",
   "mimetype": "text/x-python",
   "name": "python",
   "nbconvert_exporter": "python",
   "pygments_lexer": "ipython3",
   "version": "3.7.9"
  },
  "papermill": {
   "default_parameters": {},
   "duration": 7.997716,
   "end_time": "2021-02-11T19:53:04.069068",
   "environment_variables": {},
   "exception": null,
   "input_path": "__notebook__.ipynb",
   "output_path": "__notebook__.ipynb",
   "parameters": {},
   "start_time": "2021-02-11T19:52:56.071352",
   "version": "2.2.2"
  }
 },
 "nbformat": 4,
 "nbformat_minor": 4
}
